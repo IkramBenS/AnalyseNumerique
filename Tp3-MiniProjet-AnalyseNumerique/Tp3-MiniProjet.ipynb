{
 "cells": [
  {
   "cell_type": "markdown",
   "metadata": {},
   "source": [
    "# <center><font size=\"6\">PROJET ANALYSE NUMERIQUE</center>"
   ]
  },
  {
   "cell_type": "markdown",
   "metadata": {},
   "source": [
    "## <center><font size=\"5\">TP 3 : Intégration Numérique</center>"
   ]
  },
  {
   "cell_type": "markdown",
   "metadata": {},
   "source": [
    "## <font size=\"5\"><font color=\"AF01AF\">**Partie théorique :**"
   ]
  },
  {
   "cell_type": "markdown",
   "metadata": {},
   "source": [
    "### <font size=\"5\">Motivation"
   ]
  },
  {
   "cell_type": "markdown",
   "metadata": {},
   "source": [
    "<font size=\"3\">L’intégration est un des problémes les plus importants que l’on rencontre en analyse. En effet, on\n",
    "rencontre souvent des intégrales dont le calcul par des méthodes analytiques est trés compliqué\n",
    "ou même impossible, car il n’existe pas d’expression analytique d’une primitive de la fonction\n",
    "à intégrer.\n",
    "Dans ces cas, on peut appliquer des méthodes numériques qui permettent de calculer rapidement une valeur approchée\n",
    "I de l’intégrale à calculer"
   ]
  },
  {
   "cell_type": "markdown",
   "metadata": {},
   "source": [
    "<font size=\"3\">les méthodes qu'on va les découvrire : méthode des rectangles à gauche, méthode des trapèzes, méthode des points milieux et la méthode de simpson sont des méthodes numériques de calcul approché d'intégrale."
   ]
  },
  {
   "cell_type": "markdown",
   "metadata": {},
   "source": [
    "### <font size=\"5\">La méthode des rectangles à gauche"
   ]
  },
  {
   "cell_type": "markdown",
   "metadata": {},
   "source": [
    "<font size=\"3\">La méthode des rectangles consiste en l'approximation suivante :"
   ]
  },
  {
   "cell_type": "markdown",
   "metadata": {},
   "source": [
    "<img src=\"images/Frectangles.PNG\" />"
   ]
  },
  {
   "cell_type": "markdown",
   "metadata": {},
   "source": [
    "<font size=\"3\">Avec h = (b - a)/n, où n est le nombre de rectangles avec lesquels nous allons paver l'aire à calculer. Evidement, plus n sera grand et plus la précision du calcul sera grande. "
   ]
  },
  {
   "cell_type": "markdown",
   "metadata": {},
   "source": [
    "<font size=\"3\">**Géométriquement**, cela signifie qu'on approche l'intégrale de f par l'aire des rectangles hachurés en vert :"
   ]
  },
  {
   "cell_type": "markdown",
   "metadata": {},
   "source": [
    " <font size='4'>**on fait coïncider le sommet haut gauche du rectangle avec la courbe : c'est la méthode des rectangles à gauche**"
   ]
  },
  {
   "cell_type": "markdown",
   "metadata": {},
   "source": [
    "<img src=\"images/RecGauche.PNG\" />"
   ]
  },
  {
   "cell_type": "markdown",
   "metadata": {},
   "source": [
    "###  <font size=\"5\">La méthode des trapèzes"
   ]
  },
  {
   "cell_type": "markdown",
   "metadata": {},
   "source": [
    "<font size=\"3\">La méthode des trapèzes est du même tonneau que celle des rectangles. Vous avez sans doute compris qu'on utilise non plus des rectangles pour paver l'aire mais des trapèzes. Ainsi, la partie du pavé qui jouxte la courbe est plus proche, si j'ose m'exprimer de manière aussi peu mathématicienne que cela!"
   ]
  },
  {
   "cell_type": "markdown",
   "metadata": {},
   "source": [
    "<font size=\"3\">La méthode des trapèzes consiste en l'approximation suivante :"
   ]
  },
  {
   "cell_type": "markdown",
   "metadata": {},
   "source": [
    "<img src=\"images/Ftrapèzes.PNG\" />"
   ]
  },
  {
   "cell_type": "markdown",
   "metadata": {},
   "source": [
    "<font size=\"3\">Géométriquement, cela signifie qu'on approche l'intégrale de f par l'aire des trapèzes hachurés en marron :"
   ]
  },
  {
   "cell_type": "markdown",
   "metadata": {},
   "source": [
    "<img src=\"images/Trapezes.PNG\" />"
   ]
  },
  {
   "cell_type": "markdown",
   "metadata": {},
   "source": [
    "###  <font size=\"5\">La méthode du point milieu"
   ]
  },
  {
   "cell_type": "markdown",
   "metadata": {},
   "source": [
    "<font size=\"3\">La méthode de point milieu consiste en l'approximation suivante :"
   ]
  },
  {
   "cell_type": "markdown",
   "metadata": {},
   "source": [
    "<img src=\"images/FpointM.PNG\" />"
   ]
  },
  {
   "cell_type": "markdown",
   "metadata": {},
   "source": [
    "<font size=\"3\">Géométriquement, cela signifie qu'on approche l'intégrale de f par l'aire des rectangles hachurés en bleu :"
   ]
  },
  {
   "cell_type": "markdown",
   "metadata": {},
   "source": [
    "<img src=\"images/PointM.PNG\" />"
   ]
  },
  {
   "cell_type": "markdown",
   "metadata": {},
   "source": [
    "### <font size=\"5\">La méthode de Simpson"
   ]
  },
  {
   "cell_type": "markdown",
   "metadata": {},
   "source": [
    "<font size=\"3\">Dans la méthode des trapèzes, nous avons en fait interpolé f(x) par une droite entre les points i et i+h de l'intervalle. Dans la méthode de Simpson, nous n'allons plus interpoler par une droite mais par un polynôme de degré 2, ce qui va améliorer notre précision."
   ]
  },
  {
   "cell_type": "markdown",
   "metadata": {},
   "source": [
    "<font size=\"3\">Cette méthode utilise l’approximation d’ordre 2 de f par un polynôme quadratique P prenant\n",
    "les mêmes valeurs que f aux points d’abscisse a, b et (a+b)/2.   La méthode de Simpson consiste en l'approximation suivante :"
   ]
  },
  {
   "cell_type": "markdown",
   "metadata": {},
   "source": [
    "<img src=\"images/Fsimpson.PNG\" />"
   ]
  },
  {
   "cell_type": "markdown",
   "metadata": {},
   "source": [
    "<img src=\"images/Simpson.png\" />"
   ]
  },
  {
   "cell_type": "markdown",
   "metadata": {},
   "source": [
    "## <font size=\"5\"><font color=\"AF01AF\">**Partie pratique :**"
   ]
  },
  {
   "cell_type": "markdown",
   "metadata": {},
   "source": [
    "<font size=\"4\">Pour L'installation de la bibliothéque \"**ipywidgets**\" :"
   ]
  },
  {
   "cell_type": "code",
   "execution_count": 121,
   "metadata": {},
   "outputs": [],
   "source": [
    "#conda install -c conda-forge ipympl\n"
   ]
  },
  {
   "cell_type": "markdown",
   "metadata": {},
   "source": [
    "<font size=\"4\">Importation des bibliothéques utiles :"
   ]
  },
  {
   "cell_type": "code",
   "execution_count": 122,
   "metadata": {},
   "outputs": [],
   "source": [
    "import numpy as np\n",
    "from numpy import *\n",
    "import matplotlib.pyplot as plt"
   ]
  },
  {
   "cell_type": "code",
   "execution_count": 123,
   "metadata": {},
   "outputs": [],
   "source": [
    "%matplotlib widget\n",
    "import ipywidgets as widgets"
   ]
  },
  {
   "cell_type": "markdown",
   "metadata": {},
   "source": [
    "## <font color=\"097B79\">**La méthode des rectangles à gauche**"
   ]
  },
  {
   "cell_type": "code",
   "execution_count": 124,
   "metadata": {},
   "outputs": [],
   "source": [
    "class RectangleG ( object ) :\n",
    "    def __init__ (self , a , b , n , f ) :\n",
    "        self.a = a\n",
    "        self.b = b\n",
    "        self.x = np.linspace( a , b , n+1 )\n",
    "        self.f = f\n",
    "        self.n = n\n",
    "    def integrate ( self , f ) :\n",
    "        x= self.x\n",
    "        y= f( x )\n",
    "        h = float( x[1] - x[0] )\n",
    "        s = sum( y[ 0 : -1 ] )\n",
    "        return h * s\n",
    "    def Graph ( self , f , resolution =1001 ) :\n",
    "        xl = self.x\n",
    "        yl = f(xl)\n",
    "        xlist_fine =np.linspace( self.a , self.b , resolution )\n",
    "        for i in range ( self.n ) :\n",
    "            x_rect = [xl[ i ] , xl[ i ] , xl[ i + 1 ] , xl[i+1] , xl[ i ] ] # abscisses des sommets\n",
    "            y_rect = [0 , yl[ i ] , yl[ i ] , 0 , 0 ] # ordonnees des sommets\n",
    "            plt.plot ( x_rect , y_rect , 'r' )\n",
    "        yflist_fine = f ( xlist_fine )\n",
    "        plt.plot ( xlist_fine , yflist_fine )\n",
    "        plt.plot(xl, yl,\"bo\")\n",
    "        plt.xlabel ( 'x' )\n",
    "        plt.ylabel ( ' f ( x ) ' )\n",
    "        plt.title ( ' Methode des rectangles gauches' )\n",
    "        #plt.text( 0.5*( self.a+ self.b ) , f(self.b ) , 'I_{} ={:0.8f}'.format(self.n,self.integrate( f ) ) , fontsize =15)"
   ]
  },
  {
   "cell_type": "markdown",
   "metadata": {},
   "source": [
    "## <font color=\"097B79\">**La méthode des trapèzese**"
   ]
  },
  {
   "cell_type": "code",
   "execution_count": 125,
   "metadata": {},
   "outputs": [],
   "source": [
    "class Trapezoidal(object):\n",
    "    def __init__(self, a, b, n, f):\n",
    "        self.a = a\n",
    "        self.b = b\n",
    "        self.x = np.linspace(a, b, n+1)\n",
    "        self.f = f\n",
    "        self.n = n\n",
    "    def integrate(self,f):\n",
    "        x=self.x\n",
    "        y=f(x)\n",
    "        h = float(x[1] - x[0])\n",
    "        s = y[0] + y[-1] + 2.0*sum(y[1:-1])\n",
    "        return h * s / 2.0\n",
    "    def Graph(self,f,resolution=1001):\n",
    "        xl = self.x\n",
    "        yl = f(xl)\n",
    "        xlist_fine=np.linspace(self.a, self.b, resolution)\n",
    "        for i in range(self.n):\n",
    "            x_rect = [xl[i], xl[i], xl[i+1], xl[i+1], xl[i]] # abscisses des sommets\n",
    "            y_rect = [0   , yl[i], yl[i+1]  , 0     , 0   ] # ordonnees des sommets\n",
    "            plt.plot(x_rect, y_rect,\"m\")\n",
    "        yflist_fine = f(xlist_fine)\n",
    "        plt.plot(xlist_fine, yflist_fine)#plot de f(x)\n",
    "        plt.plot(xl, yl,\"cs\")#point support\n",
    "        plt.ylabel ( ' f ( x ) ' )\n",
    "        plt.title ( ' Methode des Trapèzes' )\n",
    "        #plt.text( 0.5*( self.a+ self.b ) , f(self.b ) , 'I_{} ={:0.8f}'.format(self.n,self.integrate( f ) ) , fontsize =15 )"
   ]
  },
  {
   "cell_type": "markdown",
   "metadata": {},
   "source": [
    "## <font color=\"097B79\">**La méthode des points milieux**"
   ]
  },
  {
   "cell_type": "code",
   "execution_count": 126,
   "metadata": {},
   "outputs": [],
   "source": [
    "class PointMilieu ( object ) :\n",
    "    def __init__ (self , a , b , n , f ) :\n",
    "        self.a = a\n",
    "        self.b = b\n",
    "        self.x = np.linspace( a , b , n+1 )\n",
    "        self.f = f\n",
    "        self.n = n       \n",
    "    def integrate ( self , f ) :\n",
    "        h = float(self.b-self.a)/(self.n)\n",
    "        sum1 = 0\n",
    "        for i in range(self.n):\n",
    "            sum1 += f(self.a + (i+1/2)*h)\n",
    "                      \n",
    "        s = h*sum1\n",
    "        return s \n",
    "    def Graph ( self , f , resolution=1001 ) :\n",
    "        xl = self.x\n",
    "        yl = f(xl)\n",
    "        xlist_fine=np.linspace( self.a , self.b , resolution )\n",
    "        for i in range ( self.n ) :\n",
    "            mi=(xl[i]+xl[i+1])/2\n",
    "            x_rect = [xl[ i ] , xl[ i ] , xl[ i + 1 ] , xl[i+1] , xl[ i ] ] # abscisses des sommets\n",
    "            y_rect = [0 , f(mi) , f(mi) , 0 , 0 ] # ordonnees des sommets\n",
    "            plt.plot ( x_rect , y_rect , 'r' )\n",
    "            plt.plot(mi,f(mi),'r*')\n",
    "        yflist_fine=f(xlist_fine)\n",
    "        plt.plot (xlist_fine,yflist_fine )\n",
    "        plt.xlabel ( 'x' )\n",
    "        plt.ylabel ( 'f(x)' )\n",
    "        plt.title ( ' Methode des points milieux' )\n",
    "        #plt.text( 0.5*( self.a+ self.b ) , f(self.b ) , 'I_{} ={:0.8f}'.format(self.n,self.integrate( f ) ) , fontsize =15 )"
   ]
  },
  {
   "cell_type": "markdown",
   "metadata": {},
   "source": [
    "## <font color=\"097B79\">**La méthode de simpson**"
   ]
  },
  {
   "cell_type": "code",
   "execution_count": 127,
   "metadata": {},
   "outputs": [],
   "source": [
    "class Simpson ( object ) :\n",
    "    def __init__ (self , a , b , n , f ) :\n",
    "        self.a = a\n",
    "        self.b = b\n",
    "        self.x = np.linspace( a , b , n+1 )\n",
    "        self.f = f\n",
    "        self.n = n   \n",
    "    def integrate ( self , f ) :\n",
    "        x = self.x\n",
    "        y=f(x)\n",
    "        h=float(x[1]-x[0])\n",
    "        n=len(x)-1\n",
    "        if n%2==1:\n",
    "            n-=1\n",
    "        s = y[0] + y[n] + 4.0 * sum(y[1:-1:2]) + 2.0 * sum(y[2:-2:2])\n",
    "        return h*s/3.0\n",
    "    def Graph ( self , f , resolution=1001 ) :\n",
    "        xl = self.x\n",
    "        yl = f(xl)\n",
    "        xlist_fine=np.linspace( self.a , self.b , resolution )\n",
    "        for i in range ( self.n ) :\n",
    "            xx=np.linspace(xl[i],xl[i+1],resolution)\n",
    "            m=(xl[i]+xl[i+1])/2\n",
    "            aa=xl[i]\n",
    "            bb=xl[i+1]\n",
    "            l0=(xx-m)/(aa-m)*(xx-bb)/(aa-bb)\n",
    "            l1=(xx-aa)/(m-aa)*(xx-bb)/(m-bb)\n",
    "            l2=(xx-aa)/(bb-aa)*(xx-m)/(bb-m)\n",
    "            P=f(aa)*l0+f(m)*l1+f(bb)*l2\n",
    "            plt.plot(xx,P,'b')\n",
    "            plt.plot(m,f(m),\"r*\")\n",
    "    \n",
    "        yflist_fine=f(xlist_fine)\n",
    "        plt.plot (xlist_fine,yflist_fine,'g' )\n",
    "        plt.plot (xl,yl,'bo' )\n",
    "        plt.ylabel ( 'f(x)' )\n",
    "        plt.title ( ' Méthode de Simpson' )\n",
    "        #plt.text( 0.5*( self.a+ self.b ) , f(self.b ) , 'I_{} ={:0.8f}'.format(self.n,self.integrate( f ) ) , fontsize =15 )"
   ]
  },
  {
   "cell_type": "markdown",
   "metadata": {},
   "source": [
    "## <font color=\"097B79\">**Création des éléments de contôle**"
   ]
  },
  {
   "cell_type": "code",
   "execution_count": 128,
   "metadata": {},
   "outputs": [],
   "source": [
    "text_func = widgets.Text(value='cos(x)', description='Fonction', continuous_update=False)\n",
    "text_xlabel = widgets.Text(value='', description='xlabel', continuous_update=False)\n",
    "text_ylabel = widgets.Text(value='', description='ylabel', continuous_update=False)\n",
    "text_a = widgets.Text(value='-1', description='a', continuous_update=False)\n",
    "text_b = widgets.Text(value='1', description='b', continuous_update=False)\n",
    "text_n= widgets.Text(value='3', description='n', continuous_update=False)\n",
    "text_int=widgets.Text(value='', description='I_n', continuous_update=False)\n",
    "text_int1=widgets.Text(value='', description='I_n', continuous_update=False)\n",
    "text_int2=widgets.Text(value='', description='I_n', continuous_update=False)\n",
    "text_int3=widgets.Text(value='', description='I_n', continuous_update=False)\n",
    "\n",
    "button=widgets.Button(description='Caluler')\n",
    "\n",
    "# callback functions\n",
    "def sim(b):\n",
    "    dic={1:RectangleG,2:Trapezoidal,3:PointMilieu,4:Simpson}\n",
    "    s=Sel.value\n",
    "    plt.clf()\n",
    "    func=lambda x:eval(text_func.value)\n",
    "    R=dic[s](float(text_a.value),float(text_b.value),int(text_n.value),func)\n",
    "    T=dic[2](float(text_a.value),float(text_b.value),int(text_n.value),func)\n",
    "    P=dic[3](float(text_a.value),float(text_b.value),int(text_n.value),func)\n",
    "    S=dic[4](float(text_a.value),float(text_b.value),int(text_n.value),func)\n",
    "    plt.subplots_adjust(hspace=0.4,wspace = 0.4)\n",
    "    plt.subplot(221)\n",
    "    R.Graph(func)\n",
    "    plt.subplot(222)\n",
    "    T.Graph(func)\n",
    "    plt.subplot(223)\n",
    "    S.Graph(func)\n",
    "    plt.subplot(224)\n",
    "    P.Graph(func)\n",
    "    text_int.value=str(R.integrate(func))\n",
    "    text_int.description='mRect.I'+text_n.value\n",
    "    text_int1.value=str(T.integrate(func))\n",
    "    text_int1.description='mTrap.I'+text_n.value\n",
    "    text_int2.value=str(P.integrate(func))\n",
    "    text_int2.description='mMilieu.I'+text_n.value\n",
    "    text_int3.value=str(S.integrate(func))\n",
    "    text_int3.description='mSimp.I'+text_n.value\n",
    "    \n",
    "def update_a(change):\n",
    "    change.new\n",
    "def update_b(change):\n",
    "    change.new\n",
    "def update_n(change):\n",
    "    change.new\n",
    "def update_f(change):\n",
    "    change.new\n",
    "    \n",
    "button.on_click(sim)\n",
    "text_func.observe(update_f,'value')\n",
    "text_a.observe(update_a,'value')\n",
    "text_b.observe(update_b,'value')\n",
    "text_n.observe(update_n,'value')"
   ]
  },
  {
   "cell_type": "code",
   "execution_count": 129,
   "metadata": {},
   "outputs": [],
   "source": [
    "output = widgets.Output()\n",
    "with output:\n",
    "    fig,ax = plt.subplots(constrained_layout=True, figsize=(6, 4))\n",
    "# move the toolbar to the bottom\n",
    "fig.canvas.toolbar_position = 'bottom'"
   ]
  },
  {
   "cell_type": "code",
   "execution_count": 130,
   "metadata": {
    "scrolled": false
   },
   "outputs": [
    {
     "data": {
      "application/vnd.jupyter.widget-view+json": {
       "model_id": "8c217a8509414f81bb09a2095e636995",
       "version_major": 2,
       "version_minor": 0
      },
      "text/plain": [
       "HBox(children=(VBox(children=(Text(value='cos(x)', continuous_update=False, description='Fonction'), Text(valu…"
      ]
     },
     "metadata": {},
     "output_type": "display_data"
    },
    {
     "name": "stderr",
     "output_type": "stream",
     "text": [
      "<ipython-input-128-d09348817668>:24: UserWarning: This figure was using constrained_layout==True, but that is incompatible with subplots_adjust and or tight_layout: setting constrained_layout==False. \n",
      "  plt.subplots_adjust(hspace=0.4,wspace = 0.4)\n"
     ]
    }
   ],
   "source": [
    "def make_boxes():\n",
    "    vbox1 = widgets.VBox([text_func,text_a,text_b,text_n,button,text_int,text_int1,text_int2,text_int3])\n",
    "    vbox2=widgets.VBox([output])\n",
    "    return vbox1,vbox2\n",
    "box_layout=widgets.Layout(\n",
    "    border='solid 3px black' ,\n",
    "    margin='0px 10px 10px 0px',\n",
    "    padding='5px 5px 5px 5px')\n",
    "vbox1,vbox2=make_boxes()\n",
    "vbox1.layout = box_layout\n",
    "vbox2.layout = box_layout\n",
    "widgets.HBox([vbox1, vbox2])\n"
   ]
  },
  {
   "cell_type": "markdown",
   "metadata": {},
   "source": [
    "## <font color=\"097B79\"><font size=\"6\">**Interprétation**"
   ]
  },
  {
   "cell_type": "markdown",
   "metadata": {},
   "source": [
    "<font color=\"red\"><font size=\"4\">**pour l'interprétation, on va prendre comme référence la valeurs obtenue par le calcul de l'integrale entre 0 et 1 suivante :\n",
    "∫(x²-x+5) = 4.833333333**"
   ]
  },
  {
   "cell_type": "markdown",
   "metadata": {},
   "source": [
    "<img src=\"gif/gif1.gif\" width=\"750\" align=\"center\">"
   ]
  },
  {
   "cell_type": "markdown",
   "metadata": {},
   "source": [
    " <font size=\"6\">Pour n=1"
   ]
  },
  {
   "cell_type": "markdown",
   "metadata": {},
   "source": [
    "La valeur donnée par la méthode des rectangles : 5"
   ]
  },
  {
   "cell_type": "markdown",
   "metadata": {},
   "source": [
    "La valeur donnée par la méthode des trapèzes : 5\n"
   ]
  },
  {
   "cell_type": "markdown",
   "metadata": {},
   "source": [
    "La valeur donnée par la méthode des points milieux : 4.75\n"
   ]
  },
  {
   "cell_type": "markdown",
   "metadata": {},
   "source": [
    "La valeur donnée par la méthode de simpson : 3.33333333333333354.75"
   ]
  },
  {
   "cell_type": "markdown",
   "metadata": {},
   "source": [
    " <font size=\"6\">Pour n=4"
   ]
  },
  {
   "cell_type": "markdown",
   "metadata": {},
   "source": [
    "La valeur donnée par la méthode des rectangles : 4.84375"
   ]
  },
  {
   "cell_type": "markdown",
   "metadata": {},
   "source": [
    "La valeur donnée par la méthode des trapèzes : 4.84375"
   ]
  },
  {
   "cell_type": "markdown",
   "metadata": {},
   "source": [
    "La valeur donnée par la méthode des points milieux : 4.828125"
   ]
  },
  {
   "cell_type": "markdown",
   "metadata": {},
   "source": [
    "La valeur donnée par la méthode de simpson : 4.833333333333333"
   ]
  },
  {
   "cell_type": "markdown",
   "metadata": {},
   "source": [
    "<font color=\"97245A\"><font size=\"4\">**On remarque que la méthode des rectangles est très simple, facile à coder mais pas très précise. Pour cette fonction polynomiale, cette méthode donne des résultats acceptables.**"
   ]
  },
  {
   "cell_type": "markdown",
   "metadata": {},
   "source": [
    "<font color=\"97245A\"><font size=\"4\">**On peut remarquer que la méthode de simpson a donnée la valeur la moin exacte pour n=1 . Par contre, pour n=4 la méthode de simpson a donnée la valeur exacte de l'integrale ! , cet exemple à prouver que le nombre de subdivisions à un rôle important dans le calcul numériques des integrales !**"
   ]
  },
  {
   "cell_type": "markdown",
   "metadata": {},
   "source": [
    "<font color=\"43732C\"><font size=\"5\">**Plus que n ( le nombre de subdivisions) augmente, les valeurs sont plus proches de la valeur exactes qui est égale **4.833333333 dans notre exemple****"
   ]
  }
 ],
 "metadata": {
  "kernelspec": {
   "display_name": "Python 3",
   "language": "python",
   "name": "python3"
  },
  "language_info": {
   "codemirror_mode": {
    "name": "ipython",
    "version": 3
   },
   "file_extension": ".py",
   "mimetype": "text/x-python",
   "name": "python",
   "nbconvert_exporter": "python",
   "pygments_lexer": "ipython3",
   "version": "3.8.3"
  }
 },
 "nbformat": 4,
 "nbformat_minor": 4
}
